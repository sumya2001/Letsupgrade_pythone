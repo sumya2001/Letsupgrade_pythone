{
 "cells": [
  {
   "cell_type": "markdown",
   "metadata": {},
   "source": [
    "# Assignment day 5"
   ]
  },
  {
   "cell_type": "markdown",
   "metadata": {},
   "source": [
    "# Question 1: Do the project. Develope a cryptography app in python and update it in Github"
   ]
  },
  {
   "cell_type": "code",
   "execution_count": 1,
   "metadata": {},
   "outputs": [
    {
     "name": "stdout",
     "output_type": "stream",
     "text": [
      "Note: you may need to restart the kernel to use updated packages.\n"
     ]
    },
    {
     "name": "stderr",
     "output_type": "stream",
     "text": [
      "'C:\\Users\\windows' is not recognized as an internal or external command,\n",
      "operable program or batch file.\n"
     ]
    }
   ],
   "source": [
    "pip install cryptography"
   ]
  },
  {
   "cell_type": "code",
   "execution_count": 2,
   "metadata": {},
   "outputs": [
    {
     "name": "stdout",
     "output_type": "stream",
     "text": [
      "Requirement already satisfied: cryptography in c:\\users\\windows 7\\anaconda3\\lib\\site-packages (3.1.1)\n",
      "Requirement already satisfied: cffi!=1.11.3,>=1.8 in c:\\users\\windows 7\\anaconda3\\lib\\site-packages (from cryptography) (1.14.3)\n",
      "Requirement already satisfied: six>=1.4.1 in c:\\users\\windows 7\\anaconda3\\lib\\site-packages (from cryptography) (1.15.0)\n",
      "Requirement already satisfied: pycparser in c:\\users\\windows 7\\anaconda3\\lib\\site-packages (from cffi!=1.11.3,>=1.8->cryptography) (2.20)\n"
     ]
    }
   ],
   "source": [
    "!pip install cryptography"
   ]
  },
  {
   "cell_type": "code",
   "execution_count": 3,
   "metadata": {},
   "outputs": [],
   "source": [
    "from cryptography.fernet import Fernet"
   ]
  },
  {
   "cell_type": "code",
   "execution_count": 10,
   "metadata": {},
   "outputs": [],
   "source": [
    "def generatePassKey():\n",
    "    key = Fernet.generate_key()\n",
    "    print(key)\n",
    "    print(type(key))\n",
    "    xyz = open(\"PasswordKey.key\",'wb')\n",
    "    xyz.write(key)\n",
    "    xyz.close()"
   ]
  },
  {
   "cell_type": "code",
   "execution_count": 12,
   "metadata": {},
   "outputs": [
    {
     "name": "stdout",
     "output_type": "stream",
     "text": [
      "b'D1Gxj2or3LfOAsYQhuTcSlZuqB-2WvECPjksSqplqSA='\n",
      "<class 'bytes'>\n"
     ]
    }
   ],
   "source": [
    "generatePassKey()"
   ]
  },
  {
   "cell_type": "code",
   "execution_count": 13,
   "metadata": {},
   "outputs": [],
   "source": [
    "def getMyKey():\n",
    "    xyz=open('PasswordKey.key','rb')\n",
    "    return xyz.read()"
   ]
  },
  {
   "cell_type": "code",
   "execution_count": 15,
   "metadata": {},
   "outputs": [
    {
     "data": {
      "text/plain": [
       "b'D1Gxj2or3LfOAsYQhuTcSlZuqB-2WvECPjksSqplqSA='"
      ]
     },
     "execution_count": 15,
     "metadata": {},
     "output_type": "execute_result"
    }
   ],
   "source": [
    "getMyKey()"
   ]
  },
  {
   "cell_type": "code",
   "execution_count": 16,
   "metadata": {},
   "outputs": [],
   "source": [
    "def getContentFromUser():\n",
    "    return input('Enter the content you want to Encrypt in your python script')\n"
   ]
  },
  {
   "cell_type": "code",
   "execution_count": 18,
   "metadata": {},
   "outputs": [
    {
     "name": "stdout",
     "output_type": "stream",
     "text": [
      "Enter the content you want to Encrypt in your python scriptI LOVE LETSUPGRADE\n"
     ]
    },
    {
     "data": {
      "text/plain": [
       "'I LOVE LETSUPGRADE'"
      ]
     },
     "execution_count": 18,
     "metadata": {},
     "output_type": "execute_result"
    }
   ],
   "source": [
    "getContentFromUser()"
   ]
  },
  {
   "cell_type": "code",
   "execution_count": 27,
   "metadata": {},
   "outputs": [],
   "source": [
    "def encryptMessage(message_normal):\n",
    "    key=getMyKey()\n",
    "    k=Fernet(key)\n",
    "    encrypted_Message=k.encrypt(message_normal)\n",
    "    return encrypted_Message"
   ]
  },
  {
   "cell_type": "code",
   "execution_count": 28,
   "metadata": {},
   "outputs": [
    {
     "data": {
      "text/plain": [
       "b'gAAAAABf3kVYdrqr-z63Kopwh25z83eOkbBiPPBKBMdHP5XGmTQMCItaMHBtK8ZO6EgwL3X7GhAhJgJmA02Xa-k24wKTcy7p8w=='"
      ]
     },
     "execution_count": 28,
     "metadata": {},
     "output_type": "execute_result"
    }
   ],
   "source": [
    "encryptMessage(b\"7860\")"
   ]
  },
  {
   "cell_type": "code",
   "execution_count": 29,
   "metadata": {},
   "outputs": [],
   "source": [
    "def decryptMessage(message_secret):\n",
    "    key=getMyKey()\n",
    "    k=Fernet(key)\n",
    "    decrypted_Message=k.decrypt(message_secret)\n",
    "    return decrypted_Message"
   ]
  },
  {
   "cell_type": "code",
   "execution_count": 31,
   "metadata": {},
   "outputs": [
    {
     "data": {
      "text/plain": [
       "b'7860'"
      ]
     },
     "execution_count": 31,
     "metadata": {},
     "output_type": "execute_result"
    }
   ],
   "source": [
    "decryptMessage(b'gAAAAABf3kVYdrqr-z63Kopwh25z83eOkbBiPPBKBMdHP5XGmTQMCItaMHBtK8ZO6EgwL3X7GhAhJgJmA02Xa-k24wKTcy7p8w=='\n",
    "\n",
    ")"
   ]
  },
  {
   "cell_type": "code",
   "execution_count": null,
   "metadata": {},
   "outputs": [],
   "source": []
  }
 ],
 "metadata": {
  "kernelspec": {
   "display_name": "Python 3",
   "language": "python",
   "name": "python3"
  },
  "language_info": {
   "codemirror_mode": {
    "name": "ipython",
    "version": 3
   },
   "file_extension": ".py",
   "mimetype": "text/x-python",
   "name": "python",
   "nbconvert_exporter": "python",
   "pygments_lexer": "ipython3",
   "version": "3.8.5"
  }
 },
 "nbformat": 4,
 "nbformat_minor": 4
}
